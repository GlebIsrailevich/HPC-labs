{
  "nbformat": 4,
  "nbformat_minor": 0,
  "metadata": {
    "colab": {
      "provenance": [],
      "gpuType": "T4"
    },
    "kernelspec": {
      "name": "python3",
      "display_name": "Python 3"
    },
    "language_info": {
      "name": "python"
    },
    "accelerator": "GPU"
  },
  "cells": [
    {
      "cell_type": "markdown",
      "source": [
        "**Причина выполнения лабораторной в Google Collaboratory**\n",
        "Решено было выполнить данная лабортаорную в google collaboratory ввиду технических сложностей связанных с тем что библиотеки Python для CUDA рассчитаны на процессоры NVIDIA. Даже драйвер AMD Rocm не решает данной проблемы так как перестал он перестал поддерживается библиотеками для CUDA"
      ],
      "metadata": {
        "id": "7iIFtkJbFO9_"
      }
    },
    {
      "cell_type": "code",
      "execution_count": null,
      "metadata": {
        "id": "t9Tore-2C4w9"
      },
      "outputs": [],
      "source": [
        "from numba import cuda, float32\n",
        "import numba as nb\n",
        "import numpy as np\n",
        "import matplotlib.pyplot  as plt\n",
        "from time import perf_counter as clock\n",
        "import time\n",
        "import math"
      ]
    },
    {
      "cell_type": "markdown",
      "source": [
        "**Перемножение матриц**\n",
        "Задача: реализовать алгоритм перемножения матриц\n",
        "Язык: C++ или Python\n",
        "Входные данные: 2 матрицы размером от 100х100 до 2000х2000 каждая.\n",
        "Выходные данные: проверка корректности перемножения + время вычисления\n",
        "Реализация должна содержать 2 функции перемножения матриц: на CPU и на GPU с\n",
        "применением CUDA.\n",
        "Отчет о проделанной лабораторной работе - это git-репозиторий с исходным кодом\n",
        "реализации + описание проделанной работы там же в readme.\n",
        "Необходимо описать реализацию, объяснив, что конкретно было распараллелено и\n",
        "почему.\n",
        "Провести эксперименты: перемножить матрицы разных размеров, посчитать\n",
        "ускорение. Результаты привести в виде таблицы/графика."
      ],
      "metadata": {
        "id": "R52zvTJhC5sf"
      }
    },
    {
      "cell_type": "markdown",
      "source": [
        "Реализуем алгоритм перемножения матриц на CPU"
      ],
      "metadata": {
        "id": "XBGV58AzY2WR"
      }
    },
    {
      "cell_type": "code",
      "source": [
        "matrix1 = np.arange(40000).reshape(200,200)\n",
        "matrix2 = np.random.randint(40000, size=(200, 200))\n"
      ],
      "metadata": {
        "id": "XXgDsV8VlPpb"
      },
      "execution_count": null,
      "outputs": []
    },
    {
      "cell_type": "code",
      "source": [
        "start = time.time()\n",
        "matrix3 = np.matmul(matrix1, matrix1)\n",
        "shape  = matrix3.shape\n",
        "end = time.time() - start\n",
        "print(f'Время выполнения операции на CPU: {end}\\nРезультат выполнения умножения:{matrix3}\\nРазмерности матрицы{shape}')"
      ],
      "metadata": {
        "colab": {
          "base_uri": "https://localhost:8080/"
        },
        "id": "3ADGseMyXgDD",
        "outputId": "6a5ef13c-fa52-4347-9a4c-de50e79f876d"
      },
      "execution_count": null,
      "outputs": [
        {
          "output_type": "stream",
          "name": "stdout",
          "text": [
            "Время выполнения операции на CPU: 0.012836933135986328\n",
            "Результат выполнения умножения:[[   529340000    529359900    529379800 ...    533260300    533280200\n",
            "     533300100]\n",
            " [  1325340000   1325399900   1325459800 ...   1337140300   1337200200\n",
            "    1337260100]\n",
            " [  2121340000   2121439900   2121539800 ...   2141020300   2141120200\n",
            "    2141220100]\n",
            " ...\n",
            " [157341340000 157349239900 157357139800 ... 158897620300 158905520200\n",
            "  158913420100]\n",
            " [158137340000 158145279900 158153219800 ... 159701500300 159709440200\n",
            "  159717380100]\n",
            " [158933340000 158941319900 158949299800 ... 160505380300 160513360200\n",
            "  160521340100]]\n",
            "Размерности матрицы(200, 200)\n"
          ]
        }
      ]
    },
    {
      "cell_type": "markdown",
      "source": [
        "Аналогичный алгоритм используя GPU, с помощью библиотеки numba"
      ],
      "metadata": {
        "id": "rv1uywO_tubj"
      }
    },
    {
      "cell_type": "code",
      "source": [
        "@cuda.jit\n",
        "def cuda_matmul(A, B, C):\n",
        "    i, j = cuda.grid(2)\n",
        "    if i < C.shape[0] and j < C.shape[1]:\n",
        "        tmp = 0.\n",
        "        for k in range(A.shape[1]):\n",
        "            tmp += A[i, k] * B[k, j]\n",
        "        C[i, j] = tmp"
      ],
      "metadata": {
        "id": "ExdKWkUSsth5"
      },
      "execution_count": null,
      "outputs": []
    },
    {
      "cell_type": "code",
      "source": [
        "start_cuda = time.time()\n",
        "temp_matrix = np.zeros((200,200))\n",
        "\n",
        "mtr_cuda1 = cuda.to_device(matrix1)\n",
        "mtr_cuda2 = cuda.to_device(matrix2)\n",
        "mtr_cuda3 = cuda.to_device(temp_matrix)\n",
        "\n",
        "threadsperblock = (16, 16)\n",
        "blockspergrid_x = math.ceil(temp_matrix.shape[0] / threadsperblock[0])\n",
        "blockspergrid_y = math.ceil(temp_matrix.shape[1] / threadsperblock[1])\n",
        "blockspergrid = (blockspergrid_x, blockspergrid_y)\n",
        "\n",
        "cuda_matmul[blockspergrid, threadsperblock](mtr_cuda1, mtr_cuda2, mtr_cuda3)\n",
        "temp_matrix = mtr_cuda3.copy_to_host()\n",
        "end_cuda = time.time() - start_cuda\n",
        "shape_cuda = temp_matrix.shape\n",
        "# print(temp_matrix)\n",
        "# print(matrix1 @ matrix2)\n",
        "print(f'Время выполнения операции на CPU: {end_cuda}\\nРезультат выполнения умножения:{temp_matrix}\\nРазмерности матрицы{shape_cuda}')"
      ],
      "metadata": {
        "id": "xu1hmvWcwOwb",
        "colab": {
          "base_uri": "https://localhost:8080/"
        },
        "outputId": "113ca764-5013-46e4-c12f-df72d4f805b7"
      },
      "execution_count": null,
      "outputs": [
        {
          "output_type": "stream",
          "name": "stdout",
          "text": [
            "Время выполнения операции на CPU: 0.004723072052001953\n",
            "Результат выполнения умножения:[[3.76563159e+08 4.26481217e+08 3.54593866e+08 ... 3.46297604e+08\n",
            "  4.03340591e+08 4.05719266e+08]\n",
            " [1.12047736e+09 1.26403202e+09 1.11528967e+09 ... 1.05710400e+09\n",
            "  1.21415239e+09 1.22730567e+09]\n",
            " [1.86439156e+09 2.10158282e+09 1.87598547e+09 ... 1.76791040e+09\n",
            "  2.02496419e+09 2.04889207e+09]\n",
            " ...\n",
            " [1.46927661e+11 1.65423989e+11 1.50211666e+11 ... 1.40375158e+11\n",
            "  1.60133265e+11 1.62258240e+11]\n",
            " [1.47671575e+11 1.66261540e+11 1.50972362e+11 ... 1.41085965e+11\n",
            "  1.60944077e+11 1.63079826e+11]\n",
            " [1.48415489e+11 1.67099090e+11 1.51733058e+11 ... 1.41796771e+11\n",
            "  1.61754889e+11 1.63901413e+11]]\n",
            "Размерности матрицы(200, 200)\n"
          ]
        }
      ]
    },
    {
      "cell_type": "markdown",
      "source": [
        "Далее приведен алгоритм оптимизировнного процесса переможения матриц (более быстрого), также использующий GPU\n",
        "Источник: https://stackoverflow.com/questions/63727411/numba-cuda-shared-memory-matrix-multiplication"
      ],
      "metadata": {
        "id": "zH6yAjq-tMpB"
      }
    },
    {
      "cell_type": "code",
      "source": [
        "# Controls threads per block and shared memory usage.\n",
        "# The computation will be done on blocks of TPBxTPB elements.\n",
        "# TPB should not be larger than 32 in this example\n",
        "TPB = 16\n",
        "\n",
        "@cuda.jit\n",
        "def opt_matmul(A, B, C):\n",
        "\n",
        "    # Define an array in the shared memory\n",
        "    # The size and type of the arrays must be known at compile time\n",
        "    sA = cuda.shared.array(shape=(TPB, TPB), dtype=float32)\n",
        "    sB = cuda.shared.array(shape=(TPB, TPB), dtype=float32)\n",
        "\n",
        "    x, y = cuda.grid(2)\n",
        "\n",
        "    tx = cuda.threadIdx.x\n",
        "    ty = cuda.threadIdx.y\n",
        "    bpg = cuda.gridDim.x    # blocks per grid\n",
        "\n",
        "    # Each thread computes one element in the result matrix.\n",
        "    # The dot product is chunked into dot products of TPB-long vectors.\n",
        "    tmp = float32(0.)\n",
        "    for i in range(bpg):\n",
        "        # Preload data into shared memory\n",
        "        sA[ty, tx] = 0\n",
        "        sB[ty, tx] = 0\n",
        "        if y < A.shape[0] and (tx + i * TPB) < A.shape[1]:\n",
        "            sA[ty, tx] = A[y, tx + i * TPB]\n",
        "        if x < B.shape[1] and (ty + i * TPB) < B.shape[0]:\n",
        "            sB[ty, tx] = B[ty + i * TPB, x]\n",
        "\n",
        "        # Wait until all threads finish preloading\n",
        "        cuda.syncthreads()\n",
        "\n",
        "        # Computes partial product on the shared memory\n",
        "        for j in range(TPB):\n",
        "            tmp += sA[ty, j] * sB[j, tx]\n",
        "\n",
        "        # Wait until all threads finish computing\n",
        "        cuda.syncthreads()\n",
        "    if y < C.shape[0] and x < C.shape[1]:\n",
        "        C[y, x] = tmp\n",
        "\n"
      ],
      "metadata": {
        "id": "ONS4xgf-podn"
      },
      "execution_count": null,
      "outputs": []
    },
    {
      "cell_type": "code",
      "source": [
        "start_opt_cuda = time.time()\n",
        "threadsperblock_opt = (TPB, TPB)\n",
        "blockspergrid_x_opt = math.ceil(temp_matrix.shape[0] / threadsperblock_opt[0])\n",
        "blockspergrid_y_opt = math.ceil(temp_matrix.shape[1] / threadsperblock_opt[1])\n",
        "blockspergrid_opt = (blockspergrid_x_opt, blockspergrid_y_opt)\n",
        "\n",
        "opt_matmul[blockspergrid, threadsperblock](mtr_cuda1, mtr_cuda2, mtr_cuda3)\n",
        "temp_matrix = mtr_cuda3.copy_to_host()\n",
        "end_opt_cuda = time.time() - start_opt_cuda\n",
        "shape_opt_cuda = temp_matrix.shape\n",
        "# print(temp_matrix)\n",
        "# print(matrix1 @ matrix2)\n",
        "print(f'Время выполнения операции на CPU: {end_opt_cuda}\\nРезультат выполнения умножения:{temp_matrix}\\nРазмерности матрицы{shape_opt_cuda}')"
      ],
      "metadata": {
        "colab": {
          "base_uri": "https://localhost:8080/"
        },
        "id": "i3t7tEgDsgzn",
        "outputId": "85691a85-1223-49dc-ab37-e499a9113712"
      },
      "execution_count": null,
      "outputs": [
        {
          "output_type": "stream",
          "name": "stdout",
          "text": [
            "Время выполнения операции на CPU: 0.001697540283203125\n",
            "Результат выполнения умножения:[[3.76563168e+08 4.26481120e+08 3.54593920e+08 ... 3.46297600e+08\n",
            "  4.03340672e+08 4.05719200e+08]\n",
            " [1.12047718e+09 1.26403187e+09 1.11528973e+09 ... 1.05710381e+09\n",
            "  1.21415258e+09 1.22730560e+09]\n",
            " [1.86439104e+09 2.10158285e+09 1.87598592e+09 ... 1.76791027e+09\n",
            "  2.02496474e+09 2.04889178e+09]\n",
            " ...\n",
            " [1.46927682e+11 1.65423972e+11 1.50211674e+11 ... 1.40375146e+11\n",
            "  1.60133267e+11 1.62258190e+11]\n",
            " [1.47671564e+11 1.66261539e+11 1.50972400e+11 ... 1.41085999e+11\n",
            "  1.60944046e+11 1.63079766e+11]\n",
            " [1.48415513e+11 1.67099105e+11 1.51733027e+11 ... 1.41796786e+11\n",
            "  1.61754857e+11 1.63901407e+11]]\n",
            "Размерности матрицы(200, 200)\n"
          ]
        }
      ]
    },
    {
      "cell_type": "code",
      "source": [
        "x_label = [f'CPU (numpy)\\n{round(end,5)} сек.', f'GPU \\n{round(end_cuda, 5)} сек.', f'GPU оптимизированный\\n{round(end_opt_cuda, 5)} сек.']\n",
        "y_label = [end, end_cuda, end_opt_cuda]\n",
        "\n",
        "plt.bar(x_label, y_label, label='Скорость выполнения')\n",
        "plt.xlabel('Методы вычисления')\n",
        "plt.ylabel('Скорость вычисления')\n",
        "plt.title('Сравнение скорости сравнения на CPU vs GPU')\n",
        "plt.legend()\n",
        "plt.show()"
      ],
      "metadata": {
        "id": "61gLU4-_x5g8",
        "colab": {
          "base_uri": "https://localhost:8080/",
          "height": 488
        },
        "outputId": "a3be7834-42d9-45d9-8be6-3bf1cb97f831"
      },
      "execution_count": null,
      "outputs": [
        {
          "output_type": "display_data",
          "data": {
            "text/plain": [
              "<Figure size 640x480 with 1 Axes>"
            ],
            "image/png": "[encoded data removed]"
          },
          "metadata": {}
        }
      ]
    },
    {
      "cell_type": "code",
      "source": [
        "difference1 = end // end_cuda\n",
        "difference2 = end_cuda // end_opt_cuda\n",
        "difference3 = end // end_opt_cuda\n",
        "print(f'Время выполнения на GPU в {difference1} быстрее чем на CPU\\nВремя выполнения оптимизированного алгоритма GPU быстрее обычного алгоритма GPU в {difference2} раз\\nВремя выпполнения оптимизированного алгоритма GPU быстрее CPU в раз {difference3}')"
      ],
      "metadata": {
        "id": "M5B_9Nk30mfO",
        "colab": {
          "base_uri": "https://localhost:8080/"
        },
        "outputId": "9efb1045-7c17-42c7-c499-84ffad21ed55"
      },
      "execution_count": null,
      "outputs": [
        {
          "output_type": "stream",
          "name": "stdout",
          "text": [
            "Время выполнения на GPU в 2.0 быстрее чем на CPU\n",
            "Время выполнения оптимизированного алгоритма GPU быстрее обычного алгоритма GPU в 2.0 раз\n",
            "Время выпполнения оптимизированного алгоритма GPU быстрее CPU в раз 7.0\n"
          ]
        }
      ]
    },
    {
      "cell_type": "markdown",
      "source": [
        "2. Эксперимент по перемножению матриц разных размеров. И расчет ускорения"
      ],
      "metadata": {
        "id": "uax22U4nzPD-"
      }
    },
    {
      "cell_type": "code",
      "source": [
        "new_matrix1 = np.arange(22500).reshape(150, 150)\n",
        "new_matrix2 = np.random.randint(90000, size=(300, 300))"
      ],
      "metadata": {
        "id": "T8SucZXAyBJt"
      },
      "execution_count": null,
      "outputs": []
    },
    {
      "cell_type": "code",
      "source": [
        "start_exp = time.time()\n",
        "new_matrix3 = np.matmul(new_matrix1, new_matrix1)\n",
        "shape_exp  = new_matrix3.shape\n",
        "end_exp = time.time() - start_exp\n",
        "print(f'Время выполнения операции на CPU: {end_exp}\\nРезультат выполнения умножения:{new_matrix3}\\nРазмерности матрицы{shape_exp}')"
      ],
      "metadata": {
        "colab": {
          "base_uri": "https://localhost:8080/"
        },
        "id": "ywtZAv0tyxUL",
        "outputId": "93455383-32d7-412f-d5b4-0d3176e60c86"
      },
      "execution_count": null,
      "outputs": [
        {
          "output_type": "stream",
          "name": "stdout",
          "text": [
            "Время выполнения операции на CPU: 0.013184309005737305\n",
            "Результат выполнения умножения:[[  167066250   167077425   167088600 ...   168708975   168720150\n",
            "    168731325]\n",
            " [  418503750   418537425   418571100 ...   423453975   423487650\n",
            "    423521325]\n",
            " [  669941250   669997425   670053600 ...   678198975   678255150\n",
            "    678311325]\n",
            " ...\n",
            " [37128378750 37131697425 37135016100 ... 37616223975 37619542650\n",
            "  37622861325]\n",
            " [37379816250 37383157425 37386498600 ... 37870968975 37874310150\n",
            "  37877651325]\n",
            " [37631253750 37634617425 37637981100 ... 38125713975 38129077650\n",
            "  38132441325]]\n",
            "Размерности матрицы(150, 150)\n"
          ]
        }
      ]
    },
    {
      "cell_type": "code",
      "source": [
        "start_cuda_exp = time.time()\n",
        "new_temp_matrix = np.zeros((150,150))\n",
        "\n",
        "mtr_cuda1_exp = cuda.to_device(new_matrix1)\n",
        "mtr_cuda2_exp = cuda.to_device(new_matrix2)\n",
        "mtr_cuda3_exp = cuda.to_device(new_temp_matrix)\n",
        "\n",
        "threadsperblock = (16, 16)\n",
        "blockspergrid_x = math.ceil(new_temp_matrix.shape[0] / threadsperblock[0])\n",
        "blockspergrid_y = math.ceil(new_temp_matrix.shape[1] / threadsperblock[1])\n",
        "blockspergrid = (blockspergrid_x, blockspergrid_y)\n",
        "\n",
        "cuda_matmul[blockspergrid, threadsperblock](mtr_cuda1_exp, mtr_cuda2_exp, mtr_cuda3_exp)\n",
        "new_temp_matrix = mtr_cuda3_exp.copy_to_host()\n",
        "end_cuda_exp = time.time() - start_cuda_exp\n",
        "shape_cuda_exp = new_temp_matrix.shape\n",
        "# print(temp_matrix)\n",
        "# print(matrix1 @ matrix2)\n",
        "print(f'Время выполнения операции на CPU: {end_cuda_exp}\\nРезультат выполнения умножения:{new_temp_matrix}\\nРазмерности матрицы{shape_cuda_exp}')"
      ],
      "metadata": {
        "colab": {
          "base_uri": "https://localhost:8080/"
        },
        "id": "oM8nQPCtBJSf",
        "outputId": "e00e6050-f945-4e36-c271-4e3c40e8f229"
      },
      "execution_count": null,
      "outputs": [
        {
          "output_type": "stream",
          "name": "stdout",
          "text": [
            "Время выполнения операции на CPU: 0.004336833953857422\n",
            "Результат выполнения умножения:[[5.00437775e+08 5.08837749e+08 4.79111402e+08 ... 5.32284140e+08\n",
            "  4.67905545e+08 5.30292655e+08]\n",
            " [1.50786808e+09 1.50240610e+09 1.45930110e+09 ... 1.62066059e+09\n",
            "  1.39936294e+09 1.59839766e+09]\n",
            " [2.51529838e+09 2.49597445e+09 2.43949080e+09 ... 2.70903704e+09\n",
            "  2.33082034e+09 2.66650266e+09]\n",
            " ...\n",
            " [1.48592692e+11 1.46563385e+11 1.44566997e+11 ... 1.60523622e+11\n",
            "  1.37392143e+11 1.57541728e+11]\n",
            " [1.49600122e+11 1.47556954e+11 1.45547187e+11 ... 1.61611999e+11\n",
            "  1.38323601e+11 1.58609833e+11]\n",
            " [1.50607552e+11 1.48550522e+11 1.46527377e+11 ... 1.62700375e+11\n",
            "  1.39255058e+11 1.59677938e+11]]\n",
            "Размерности матрицы(150, 150)\n"
          ]
        }
      ]
    },
    {
      "cell_type": "code",
      "source": [
        "start_opt_cudaexp = time.time()\n",
        "new_temp_matrix = np.zeros((150,150))\n",
        "threadsperblock_opt = (TPB, TPB)\n",
        "blockspergrid_x_opt = math.ceil(new_temp_matrix.shape[0] / threadsperblock_opt[0])\n",
        "blockspergrid_y_opt = math.ceil(new_temp_matrix.shape[1] / threadsperblock_opt[1])\n",
        "blockspergrid_opt = (blockspergrid_x_opt, blockspergrid_y_opt)\n",
        "\n",
        "opt_matmul[blockspergrid, threadsperblock](mtr_cuda1_exp, mtr_cuda2_exp, mtr_cuda3_exp)\n",
        "new_temp_matrix = mtr_cuda3_exp.copy_to_host()\n",
        "end_opt_cudaexp = time.time() - start_opt_cudaexp\n",
        "shape_opt_cudaexp = new_temp_matrix.shape\n",
        "print(f'Время выполнения операции на CPU: {end_opt_cudaexp}\\nРезультат выполнения умножения:{new_temp_matrix}\\nРазмерности матрицы{shape_opt_cudaexp}')"
      ],
      "metadata": {
        "colab": {
          "base_uri": "https://localhost:8080/"
        },
        "id": "UDd6Zs56DHAA",
        "outputId": "059fa060-3e63-462a-ab9a-b613efdf8bc6"
      },
      "execution_count": null,
      "outputs": [
        {
          "output_type": "stream",
          "name": "stdout",
          "text": [
            "Время выполнения операции на CPU: 0.0010297298431396484\n",
            "Результат выполнения умножения:[[5.00437952e+08 5.08837664e+08 4.79111488e+08 ... 5.32284128e+08\n",
            "  4.67905536e+08 5.30292672e+08]\n",
            " [1.50786829e+09 1.50240614e+09 1.45930086e+09 ... 1.62066074e+09\n",
            "  1.39936282e+09 1.59839795e+09]\n",
            " [2.51529779e+09 2.49597440e+09 2.43949030e+09 ... 2.70903706e+09\n",
            "  2.33081984e+09 2.66650189e+09]\n",
            " ...\n",
            " [1.48592689e+11 1.46563383e+11 1.44567009e+11 ... 1.60523633e+11\n",
            "  1.37392103e+11 1.57541745e+11]\n",
            " [1.49600092e+11 1.47556925e+11 1.45547166e+11 ... 1.61612022e+11\n",
            "  1.38323624e+11 1.58609834e+11]\n",
            " [1.50607561e+11 1.48550517e+11 1.46527388e+11 ... 1.62700329e+11\n",
            "  1.39255054e+11 1.59677972e+11]]\n",
            "Размерности матрицы(150, 150)\n"
          ]
        }
      ]
    },
    {
      "cell_type": "code",
      "source": [
        "x_label = [f'CPU (numpy)\\n{round(end_exp,5)} сек.', f'GPU \\n{round(end_cuda_exp, 5)} сек.', f'GPU оптимизированный\\n{round(end_opt_cudaexp, 5)} сек.']\n",
        "y_label = [end_exp, end_cuda_exp, end_opt_cudaexp]\n",
        "\n",
        "plt.bar(x_label, y_label, label='Скорость выполнения', color='green')\n",
        "plt.xlabel('Методы вычисления')\n",
        "plt.ylabel('Скорость вычисления')\n",
        "plt.title('Сравнение скорости сравнения на CPU vs GPU (Матрицы разных размерностей)')\n",
        "plt.legend()\n",
        "plt.show()"
      ],
      "metadata": {
        "colab": {
          "base_uri": "https://localhost:8080/",
          "height": 488
        },
        "id": "RL4L5PdkEGjo",
        "outputId": "1d1d51bd-beb1-47b8-9d2c-4066375b86b9"
      },
      "execution_count": null,
      "outputs": [
        {
          "output_type": "display_data",
          "data": {
            "text/plain": [
              "<Figure size 640x480 with 1 Axes>"
            ],
            "image/png": "[encoded data removed]"
          },
          "metadata": {}
        }
      ]
    },
    {
      "cell_type": "markdown",
      "source": [
        "На гистограмме видно, что скорость  вычисления перемножения матриц разных размерностей чуть ниже чем операция с матрицами той же размерности, в оптимизированном GPU падение наибольшее, но в первоначальном алгоритме с GPU вычисления прошли даже быстрее."
      ],
      "metadata": {
        "id": "KW_YFsKRFCtd"
      }
    },
    {
      "cell_type": "code",
      "source": [],
      "metadata": {
        "id": "5gLMqPZfE7oR"
      },
      "execution_count": null,
      "outputs": []
    }
  ]
}